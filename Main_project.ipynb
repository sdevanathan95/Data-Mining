{
 "cells": [
  {
   "cell_type": "markdown",
   "metadata": {},
   "source": [
    "<h3> Feature Engineering </h3>"
   ]
  },
  {
   "cell_type": "markdown",
   "metadata": {},
   "source": [
    "**Importing libraries**"
   ]
  },
  {
   "cell_type": "code",
   "execution_count": 112,
   "metadata": {},
   "outputs": [],
   "source": [
    "import pandas as pd\n",
    "import numpy as np\n",
    "pd.set_option(\"display.max_columns\",None)\n",
    "pd.set_option(\"display.max_rows\",None)"
   ]
  },
  {
   "cell_type": "markdown",
   "metadata": {},
   "source": [
    "**Importing the dataset**"
   ]
  },
  {
   "cell_type": "code",
   "execution_count": null,
   "metadata": {},
   "outputs": [],
   "source": [
    "data = pd.read_csv(\"D:\\semester 2\\data mining\\Project\\FARS2017NationalCSV\\VEHICLE - Copy.csv\")"
   ]
  },
  {
   "cell_type": "markdown",
   "metadata": {},
   "source": [
    "**Taking a look at the data**"
   ]
  },
  {
   "cell_type": "code",
   "execution_count": 169,
   "metadata": {},
   "outputs": [
    {
     "data": {
      "text/html": [
       "<div>\n",
       "<style scoped>\n",
       "    .dataframe tbody tr th:only-of-type {\n",
       "        vertical-align: middle;\n",
       "    }\n",
       "\n",
       "    .dataframe tbody tr th {\n",
       "        vertical-align: top;\n",
       "    }\n",
       "\n",
       "    .dataframe thead th {\n",
       "        text-align: right;\n",
       "    }\n",
       "</style>\n",
       "<table border=\"1\" class=\"dataframe\">\n",
       "  <thead>\n",
       "    <tr style=\"text-align: right;\">\n",
       "      <th></th>\n",
       "      <th>State</th>\n",
       "      <th>Case_No.</th>\n",
       "      <th>Vehicle_No.</th>\n",
       "      <th>No. of Occupants</th>\n",
       "      <th>Harmful_Event</th>\n",
       "      <th>Manner_of_Collision</th>\n",
       "      <th>Hit_and_Run</th>\n",
       "      <th>Make</th>\n",
       "      <th>Body_Type</th>\n",
       "      <th>Towing_Vehicle</th>\n",
       "      <th>JackKnife</th>\n",
       "      <th>Gross_Vehicle_Weight</th>\n",
       "      <th>Vehicle_Configuration</th>\n",
       "      <th>Cargo_bodytype</th>\n",
       "      <th>Travel_speed</th>\n",
       "      <th>UNDERIDE</th>\n",
       "      <th>ROLLOVER</th>\n",
       "      <th>Rolling location</th>\n",
       "      <th>IMPACT1</th>\n",
       "      <th>DEFORMED</th>\n",
       "      <th>Event_to_injury</th>\n",
       "      <th>FIRE</th>\n",
       "      <th>Driver_present</th>\n",
       "      <th>SPEEDREL</th>\n",
       "      <th>DR_SF1</th>\n",
       "      <th>DR_SF2</th>\n",
       "      <th>DR_SF3</th>\n",
       "      <th>DR_SF4</th>\n",
       "      <th>Traffic_way_description</th>\n",
       "      <th>No.of lanes</th>\n",
       "      <th>speed limit</th>\n",
       "      <th>alignment_road</th>\n",
       "      <th>road profile</th>\n",
       "      <th>Road type</th>\n",
       "      <th>road condition</th>\n",
       "      <th>traffic control</th>\n",
       "      <th>traffic  control functioning</th>\n",
       "      <th>P_CRASH1</th>\n",
       "      <th>P_CRASH2</th>\n",
       "      <th>P_CRASH3</th>\n",
       "      <th>PCRASH4</th>\n",
       "      <th>PCRASH5</th>\n",
       "      <th>crash type</th>\n",
       "      <th>DEATHS</th>\n",
       "      <th>DR_DRINK</th>\n",
       "    </tr>\n",
       "  </thead>\n",
       "  <tbody>\n",
       "    <tr>\n",
       "      <th>0</th>\n",
       "      <td>Alabama</td>\n",
       "      <td>10001</td>\n",
       "      <td>1</td>\n",
       "      <td>1</td>\n",
       "      <td>Fence</td>\n",
       "      <td>0</td>\n",
       "      <td>No</td>\n",
       "      <td>Chevrolet</td>\n",
       "      <td>15</td>\n",
       "      <td>1</td>\n",
       "      <td>1</td>\n",
       "      <td>0</td>\n",
       "      <td>0</td>\n",
       "      <td>0</td>\n",
       "      <td>999</td>\n",
       "      <td>No Under or over ride</td>\n",
       "      <td>No Rollover</td>\n",
       "      <td>No rollover</td>\n",
       "      <td>12</td>\n",
       "      <td>6</td>\n",
       "      <td>35</td>\n",
       "      <td>0</td>\n",
       "      <td>1</td>\n",
       "      <td>0</td>\n",
       "      <td>0</td>\n",
       "      <td>0</td>\n",
       "      <td>0</td>\n",
       "      <td>0</td>\n",
       "      <td>2</td>\n",
       "      <td>2</td>\n",
       "      <td>70</td>\n",
       "      <td>1</td>\n",
       "      <td>1</td>\n",
       "      <td>2</td>\n",
       "      <td>1</td>\n",
       "      <td>0</td>\n",
       "      <td>0</td>\n",
       "      <td>1</td>\n",
       "      <td>12</td>\n",
       "      <td>99</td>\n",
       "      <td>1</td>\n",
       "      <td>4</td>\n",
       "      <td>6</td>\n",
       "      <td>1</td>\n",
       "      <td>No Drinking</td>\n",
       "    </tr>\n",
       "    <tr>\n",
       "      <th>2</th>\n",
       "      <td>Alabama</td>\n",
       "      <td>10003</td>\n",
       "      <td>1</td>\n",
       "      <td>1</td>\n",
       "      <td>Motor Vehicle in Transport</td>\n",
       "      <td>1</td>\n",
       "      <td>No</td>\n",
       "      <td>Freightliner</td>\n",
       "      <td>66</td>\n",
       "      <td>1</td>\n",
       "      <td>1</td>\n",
       "      <td>3</td>\n",
       "      <td>6</td>\n",
       "      <td>3</td>\n",
       "      <td>999</td>\n",
       "      <td>No Under or over ride</td>\n",
       "      <td>No Rollover</td>\n",
       "      <td>No rollover</td>\n",
       "      <td>12</td>\n",
       "      <td>6</td>\n",
       "      <td>12</td>\n",
       "      <td>1</td>\n",
       "      <td>1</td>\n",
       "      <td>9</td>\n",
       "      <td>99</td>\n",
       "      <td>99</td>\n",
       "      <td>99</td>\n",
       "      <td>99</td>\n",
       "      <td>2</td>\n",
       "      <td>2</td>\n",
       "      <td>70</td>\n",
       "      <td>1</td>\n",
       "      <td>5</td>\n",
       "      <td>2</td>\n",
       "      <td>1</td>\n",
       "      <td>0</td>\n",
       "      <td>0</td>\n",
       "      <td>1</td>\n",
       "      <td>99</td>\n",
       "      <td>99</td>\n",
       "      <td>1</td>\n",
       "      <td>1</td>\n",
       "      <td>33</td>\n",
       "      <td>0</td>\n",
       "      <td>No Drinking</td>\n",
       "    </tr>\n",
       "    <tr>\n",
       "      <th>3</th>\n",
       "      <td>Alabama</td>\n",
       "      <td>10003</td>\n",
       "      <td>2</td>\n",
       "      <td>1</td>\n",
       "      <td>Motor Vehicle in Transport</td>\n",
       "      <td>1</td>\n",
       "      <td>No</td>\n",
       "      <td>Jeep/Kaiser-Jeep/Willys Jeep</td>\n",
       "      <td>14</td>\n",
       "      <td>0</td>\n",
       "      <td>0</td>\n",
       "      <td>0</td>\n",
       "      <td>0</td>\n",
       "      <td>0</td>\n",
       "      <td>999</td>\n",
       "      <td>No Under or over ride</td>\n",
       "      <td>No Rollover</td>\n",
       "      <td>No rollover</td>\n",
       "      <td>6</td>\n",
       "      <td>6</td>\n",
       "      <td>12</td>\n",
       "      <td>0</td>\n",
       "      <td>1</td>\n",
       "      <td>9</td>\n",
       "      <td>99</td>\n",
       "      <td>99</td>\n",
       "      <td>99</td>\n",
       "      <td>99</td>\n",
       "      <td>2</td>\n",
       "      <td>2</td>\n",
       "      <td>70</td>\n",
       "      <td>1</td>\n",
       "      <td>5</td>\n",
       "      <td>2</td>\n",
       "      <td>1</td>\n",
       "      <td>0</td>\n",
       "      <td>0</td>\n",
       "      <td>15</td>\n",
       "      <td>99</td>\n",
       "      <td>99</td>\n",
       "      <td>9</td>\n",
       "      <td>9</td>\n",
       "      <td>33</td>\n",
       "      <td>1</td>\n",
       "      <td>No Drinking</td>\n",
       "    </tr>\n",
       "    <tr>\n",
       "      <th>4</th>\n",
       "      <td>Alabama</td>\n",
       "      <td>10003</td>\n",
       "      <td>3</td>\n",
       "      <td>1</td>\n",
       "      <td>Motor Vehicle in Transport</td>\n",
       "      <td>1</td>\n",
       "      <td>No</td>\n",
       "      <td>International Harvester/Navistar</td>\n",
       "      <td>66</td>\n",
       "      <td>1</td>\n",
       "      <td>1</td>\n",
       "      <td>3</td>\n",
       "      <td>6</td>\n",
       "      <td>3</td>\n",
       "      <td>999</td>\n",
       "      <td>No Under or over ride</td>\n",
       "      <td>No Rollover</td>\n",
       "      <td>No rollover</td>\n",
       "      <td>6</td>\n",
       "      <td>6</td>\n",
       "      <td>12</td>\n",
       "      <td>0</td>\n",
       "      <td>1</td>\n",
       "      <td>0</td>\n",
       "      <td>0</td>\n",
       "      <td>0</td>\n",
       "      <td>0</td>\n",
       "      <td>0</td>\n",
       "      <td>2</td>\n",
       "      <td>2</td>\n",
       "      <td>70</td>\n",
       "      <td>1</td>\n",
       "      <td>5</td>\n",
       "      <td>2</td>\n",
       "      <td>1</td>\n",
       "      <td>0</td>\n",
       "      <td>0</td>\n",
       "      <td>1</td>\n",
       "      <td>99</td>\n",
       "      <td>99</td>\n",
       "      <td>1</td>\n",
       "      <td>1</td>\n",
       "      <td>98</td>\n",
       "      <td>0</td>\n",
       "      <td>No Drinking</td>\n",
       "    </tr>\n",
       "    <tr>\n",
       "      <th>5</th>\n",
       "      <td>Alabama</td>\n",
       "      <td>10004</td>\n",
       "      <td>1</td>\n",
       "      <td>1</td>\n",
       "      <td>Utility Pole/Light Support</td>\n",
       "      <td>0</td>\n",
       "      <td>No</td>\n",
       "      <td>Volkswagen</td>\n",
       "      <td>4</td>\n",
       "      <td>0</td>\n",
       "      <td>0</td>\n",
       "      <td>0</td>\n",
       "      <td>0</td>\n",
       "      <td>0</td>\n",
       "      <td>999</td>\n",
       "      <td>No Under or over ride</td>\n",
       "      <td>Rollover tripped by object</td>\n",
       "      <td>On roadside</td>\n",
       "      <td>11</td>\n",
       "      <td>6</td>\n",
       "      <td>19</td>\n",
       "      <td>0</td>\n",
       "      <td>1</td>\n",
       "      <td>4</td>\n",
       "      <td>53</td>\n",
       "      <td>28</td>\n",
       "      <td>37</td>\n",
       "      <td>0</td>\n",
       "      <td>2</td>\n",
       "      <td>3</td>\n",
       "      <td>40</td>\n",
       "      <td>1</td>\n",
       "      <td>1</td>\n",
       "      <td>2</td>\n",
       "      <td>2</td>\n",
       "      <td>3</td>\n",
       "      <td>3</td>\n",
       "      <td>1</td>\n",
       "      <td>12</td>\n",
       "      <td>99</td>\n",
       "      <td>9</td>\n",
       "      <td>4</td>\n",
       "      <td>7</td>\n",
       "      <td>1</td>\n",
       "      <td>No Drinking</td>\n",
       "    </tr>\n",
       "  </tbody>\n",
       "</table>\n",
       "</div>"
      ],
      "text/plain": [
       "     State  Case_No.  Vehicle_No. No. of Occupants  \\\n",
       "0  Alabama     10001            1                1   \n",
       "2  Alabama     10003            1                1   \n",
       "3  Alabama     10003            2                1   \n",
       "4  Alabama     10003            3                1   \n",
       "5  Alabama     10004            1                1   \n",
       "\n",
       "                Harmful_Event  Manner_of_Collision Hit_and_Run  \\\n",
       "0                       Fence                    0          No   \n",
       "2  Motor Vehicle in Transport                    1          No   \n",
       "3  Motor Vehicle in Transport                    1          No   \n",
       "4  Motor Vehicle in Transport                    1          No   \n",
       "5  Utility Pole/Light Support                    0          No   \n",
       "\n",
       "                               Make  Body_Type  Towing_Vehicle  JackKnife  \\\n",
       "0                         Chevrolet         15               1          1   \n",
       "2                      Freightliner         66               1          1   \n",
       "3      Jeep/Kaiser-Jeep/Willys Jeep         14               0          0   \n",
       "4  International Harvester/Navistar         66               1          1   \n",
       "5                        Volkswagen          4               0          0   \n",
       "\n",
       "   Gross_Vehicle_Weight  Vehicle_Configuration  Cargo_bodytype  Travel_speed  \\\n",
       "0                     0                      0               0           999   \n",
       "2                     3                      6               3           999   \n",
       "3                     0                      0               0           999   \n",
       "4                     3                      6               3           999   \n",
       "5                     0                      0               0           999   \n",
       "\n",
       "                UNDERIDE                    ROLLOVER Rolling location  \\\n",
       "0  No Under or over ride                 No Rollover      No rollover   \n",
       "2  No Under or over ride                 No Rollover      No rollover   \n",
       "3  No Under or over ride                 No Rollover      No rollover   \n",
       "4  No Under or over ride                 No Rollover      No rollover   \n",
       "5  No Under or over ride  Rollover tripped by object      On roadside   \n",
       "\n",
       "   IMPACT1  DEFORMED  Event_to_injury  FIRE  Driver_present  SPEEDREL  DR_SF1  \\\n",
       "0       12         6               35     0               1         0       0   \n",
       "2       12         6               12     1               1         9      99   \n",
       "3        6         6               12     0               1         9      99   \n",
       "4        6         6               12     0               1         0       0   \n",
       "5       11         6               19     0               1         4      53   \n",
       "\n",
       "   DR_SF2  DR_SF3  DR_SF4  Traffic_way_description  No.of lanes  speed limit  \\\n",
       "0       0       0       0                        2            2           70   \n",
       "2      99      99      99                        2            2           70   \n",
       "3      99      99      99                        2            2           70   \n",
       "4       0       0       0                        2            2           70   \n",
       "5      28      37       0                        2            3           40   \n",
       "\n",
       "   alignment_road  road profile  Road type  road condition  traffic control  \\\n",
       "0               1             1          2               1                0   \n",
       "2               1             5          2               1                0   \n",
       "3               1             5          2               1                0   \n",
       "4               1             5          2               1                0   \n",
       "5               1             1          2               2                3   \n",
       "\n",
       "   traffic  control functioning  P_CRASH1  P_CRASH2  P_CRASH3  PCRASH4  \\\n",
       "0                             0         1        12        99        1   \n",
       "2                             0         1        99        99        1   \n",
       "3                             0        15        99        99        9   \n",
       "4                             0         1        99        99        1   \n",
       "5                             3         1        12        99        9   \n",
       "\n",
       "   PCRASH5  crash type  DEATHS     DR_DRINK  \n",
       "0        4           6       1  No Drinking  \n",
       "2        1          33       0  No Drinking  \n",
       "3        9          33       1  No Drinking  \n",
       "4        1          98       0  No Drinking  \n",
       "5        4           7       1  No Drinking  "
      ]
     },
     "execution_count": 169,
     "metadata": {},
     "output_type": "execute_result"
    }
   ],
   "source": [
    "data.head()"
   ]
  },
  {
   "cell_type": "markdown",
   "metadata": {},
   "source": [
    "**Deleting unnecessary columns** "
   ]
  },
  {
   "cell_type": "code",
   "execution_count": 12,
   "metadata": {},
   "outputs": [],
   "source": [
    "del data['Unnamed: 46']"
   ]
  },
  {
   "cell_type": "code",
   "execution_count": 32,
   "metadata": {
    "collapsed": true
   },
   "outputs": [
    {
     "ename": "KeyError",
     "evalue": "'Unnamed: 45'",
     "output_type": "error",
     "traceback": [
      "\u001b[1;31m---------------------------------------------------------------------------\u001b[0m",
      "\u001b[1;31mKeyError\u001b[0m                                  Traceback (most recent call last)",
      "\u001b[1;32mc:\\users\\sdeva\\appdata\\local\\programs\\python\\python38-32\\lib\\site-packages\\pandas\\core\\indexes\\base.py\u001b[0m in \u001b[0;36mget_loc\u001b[1;34m(self, key, method, tolerance)\u001b[0m\n\u001b[0;32m   2645\u001b[0m             \u001b[1;32mtry\u001b[0m\u001b[1;33m:\u001b[0m\u001b[1;33m\u001b[0m\u001b[1;33m\u001b[0m\u001b[0m\n\u001b[1;32m-> 2646\u001b[1;33m                 \u001b[1;32mreturn\u001b[0m \u001b[0mself\u001b[0m\u001b[1;33m.\u001b[0m\u001b[0m_engine\u001b[0m\u001b[1;33m.\u001b[0m\u001b[0mget_loc\u001b[0m\u001b[1;33m(\u001b[0m\u001b[0mkey\u001b[0m\u001b[1;33m)\u001b[0m\u001b[1;33m\u001b[0m\u001b[1;33m\u001b[0m\u001b[0m\n\u001b[0m\u001b[0;32m   2647\u001b[0m             \u001b[1;32mexcept\u001b[0m \u001b[0mKeyError\u001b[0m\u001b[1;33m:\u001b[0m\u001b[1;33m\u001b[0m\u001b[1;33m\u001b[0m\u001b[0m\n",
      "\u001b[1;32mpandas\\_libs\\index.pyx\u001b[0m in \u001b[0;36mpandas._libs.index.IndexEngine.get_loc\u001b[1;34m()\u001b[0m\n",
      "\u001b[1;32mpandas\\_libs\\index.pyx\u001b[0m in \u001b[0;36mpandas._libs.index.IndexEngine.get_loc\u001b[1;34m()\u001b[0m\n",
      "\u001b[1;32mpandas\\_libs\\hashtable_class_helper.pxi\u001b[0m in \u001b[0;36mpandas._libs.hashtable.PyObjectHashTable.get_item\u001b[1;34m()\u001b[0m\n",
      "\u001b[1;32mpandas\\_libs\\hashtable_class_helper.pxi\u001b[0m in \u001b[0;36mpandas._libs.hashtable.PyObjectHashTable.get_item\u001b[1;34m()\u001b[0m\n",
      "\u001b[1;31mKeyError\u001b[0m: 'Unnamed: 45'",
      "\nDuring handling of the above exception, another exception occurred:\n",
      "\u001b[1;31mKeyError\u001b[0m                                  Traceback (most recent call last)",
      "\u001b[1;32m<ipython-input-32-7b04d1098dbb>\u001b[0m in \u001b[0;36m<module>\u001b[1;34m\u001b[0m\n\u001b[1;32m----> 1\u001b[1;33m \u001b[1;32mdel\u001b[0m \u001b[0mdata\u001b[0m\u001b[1;33m[\u001b[0m\u001b[1;34m'Unnamed: 45'\u001b[0m\u001b[1;33m]\u001b[0m\u001b[1;33m\u001b[0m\u001b[1;33m\u001b[0m\u001b[0m\n\u001b[0m",
      "\u001b[1;32mc:\\users\\sdeva\\appdata\\local\\programs\\python\\python38-32\\lib\\site-packages\\pandas\\core\\generic.py\u001b[0m in \u001b[0;36m__delitem__\u001b[1;34m(self, key)\u001b[0m\n\u001b[0;32m   3757\u001b[0m             \u001b[1;31m# there was no match, this call should raise the appropriate\u001b[0m\u001b[1;33m\u001b[0m\u001b[1;33m\u001b[0m\u001b[1;33m\u001b[0m\u001b[0m\n\u001b[0;32m   3758\u001b[0m             \u001b[1;31m# exception:\u001b[0m\u001b[1;33m\u001b[0m\u001b[1;33m\u001b[0m\u001b[1;33m\u001b[0m\u001b[0m\n\u001b[1;32m-> 3759\u001b[1;33m             \u001b[0mself\u001b[0m\u001b[1;33m.\u001b[0m\u001b[0m_data\u001b[0m\u001b[1;33m.\u001b[0m\u001b[0mdelete\u001b[0m\u001b[1;33m(\u001b[0m\u001b[0mkey\u001b[0m\u001b[1;33m)\u001b[0m\u001b[1;33m\u001b[0m\u001b[1;33m\u001b[0m\u001b[0m\n\u001b[0m\u001b[0;32m   3760\u001b[0m \u001b[1;33m\u001b[0m\u001b[0m\n\u001b[0;32m   3761\u001b[0m         \u001b[1;31m# delete from the caches\u001b[0m\u001b[1;33m\u001b[0m\u001b[1;33m\u001b[0m\u001b[1;33m\u001b[0m\u001b[0m\n",
      "\u001b[1;32mc:\\users\\sdeva\\appdata\\local\\programs\\python\\python38-32\\lib\\site-packages\\pandas\\core\\internals\\managers.py\u001b[0m in \u001b[0;36mdelete\u001b[1;34m(self, item)\u001b[0m\n\u001b[0;32m   1000\u001b[0m         \u001b[0mDelete\u001b[0m \u001b[0mselected\u001b[0m \u001b[0mitem\u001b[0m \u001b[1;33m(\u001b[0m\u001b[0mitems\u001b[0m \u001b[1;32mif\u001b[0m \u001b[0mnon\u001b[0m\u001b[1;33m-\u001b[0m\u001b[0munique\u001b[0m\u001b[1;33m)\u001b[0m \u001b[1;32min\u001b[0m\u001b[1;33m-\u001b[0m\u001b[0mplace\u001b[0m\u001b[1;33m.\u001b[0m\u001b[1;33m\u001b[0m\u001b[1;33m\u001b[0m\u001b[0m\n\u001b[0;32m   1001\u001b[0m         \"\"\"\n\u001b[1;32m-> 1002\u001b[1;33m         \u001b[0mindexer\u001b[0m \u001b[1;33m=\u001b[0m \u001b[0mself\u001b[0m\u001b[1;33m.\u001b[0m\u001b[0mitems\u001b[0m\u001b[1;33m.\u001b[0m\u001b[0mget_loc\u001b[0m\u001b[1;33m(\u001b[0m\u001b[0mitem\u001b[0m\u001b[1;33m)\u001b[0m\u001b[1;33m\u001b[0m\u001b[1;33m\u001b[0m\u001b[0m\n\u001b[0m\u001b[0;32m   1003\u001b[0m \u001b[1;33m\u001b[0m\u001b[0m\n\u001b[0;32m   1004\u001b[0m         \u001b[0mis_deleted\u001b[0m \u001b[1;33m=\u001b[0m \u001b[0mnp\u001b[0m\u001b[1;33m.\u001b[0m\u001b[0mzeros\u001b[0m\u001b[1;33m(\u001b[0m\u001b[0mself\u001b[0m\u001b[1;33m.\u001b[0m\u001b[0mshape\u001b[0m\u001b[1;33m[\u001b[0m\u001b[1;36m0\u001b[0m\u001b[1;33m]\u001b[0m\u001b[1;33m,\u001b[0m \u001b[0mdtype\u001b[0m\u001b[1;33m=\u001b[0m\u001b[0mnp\u001b[0m\u001b[1;33m.\u001b[0m\u001b[0mbool_\u001b[0m\u001b[1;33m)\u001b[0m\u001b[1;33m\u001b[0m\u001b[1;33m\u001b[0m\u001b[0m\n",
      "\u001b[1;32mc:\\users\\sdeva\\appdata\\local\\programs\\python\\python38-32\\lib\\site-packages\\pandas\\core\\indexes\\base.py\u001b[0m in \u001b[0;36mget_loc\u001b[1;34m(self, key, method, tolerance)\u001b[0m\n\u001b[0;32m   2646\u001b[0m                 \u001b[1;32mreturn\u001b[0m \u001b[0mself\u001b[0m\u001b[1;33m.\u001b[0m\u001b[0m_engine\u001b[0m\u001b[1;33m.\u001b[0m\u001b[0mget_loc\u001b[0m\u001b[1;33m(\u001b[0m\u001b[0mkey\u001b[0m\u001b[1;33m)\u001b[0m\u001b[1;33m\u001b[0m\u001b[1;33m\u001b[0m\u001b[0m\n\u001b[0;32m   2647\u001b[0m             \u001b[1;32mexcept\u001b[0m \u001b[0mKeyError\u001b[0m\u001b[1;33m:\u001b[0m\u001b[1;33m\u001b[0m\u001b[1;33m\u001b[0m\u001b[0m\n\u001b[1;32m-> 2648\u001b[1;33m                 \u001b[1;32mreturn\u001b[0m \u001b[0mself\u001b[0m\u001b[1;33m.\u001b[0m\u001b[0m_engine\u001b[0m\u001b[1;33m.\u001b[0m\u001b[0mget_loc\u001b[0m\u001b[1;33m(\u001b[0m\u001b[0mself\u001b[0m\u001b[1;33m.\u001b[0m\u001b[0m_maybe_cast_indexer\u001b[0m\u001b[1;33m(\u001b[0m\u001b[0mkey\u001b[0m\u001b[1;33m)\u001b[0m\u001b[1;33m)\u001b[0m\u001b[1;33m\u001b[0m\u001b[1;33m\u001b[0m\u001b[0m\n\u001b[0m\u001b[0;32m   2649\u001b[0m         \u001b[0mindexer\u001b[0m \u001b[1;33m=\u001b[0m \u001b[0mself\u001b[0m\u001b[1;33m.\u001b[0m\u001b[0mget_indexer\u001b[0m\u001b[1;33m(\u001b[0m\u001b[1;33m[\u001b[0m\u001b[0mkey\u001b[0m\u001b[1;33m]\u001b[0m\u001b[1;33m,\u001b[0m \u001b[0mmethod\u001b[0m\u001b[1;33m=\u001b[0m\u001b[0mmethod\u001b[0m\u001b[1;33m,\u001b[0m \u001b[0mtolerance\u001b[0m\u001b[1;33m=\u001b[0m\u001b[0mtolerance\u001b[0m\u001b[1;33m)\u001b[0m\u001b[1;33m\u001b[0m\u001b[1;33m\u001b[0m\u001b[0m\n\u001b[0;32m   2650\u001b[0m         \u001b[1;32mif\u001b[0m \u001b[0mindexer\u001b[0m\u001b[1;33m.\u001b[0m\u001b[0mndim\u001b[0m \u001b[1;33m>\u001b[0m \u001b[1;36m1\u001b[0m \u001b[1;32mor\u001b[0m \u001b[0mindexer\u001b[0m\u001b[1;33m.\u001b[0m\u001b[0msize\u001b[0m \u001b[1;33m>\u001b[0m \u001b[1;36m1\u001b[0m\u001b[1;33m:\u001b[0m\u001b[1;33m\u001b[0m\u001b[1;33m\u001b[0m\u001b[0m\n",
      "\u001b[1;32mpandas\\_libs\\index.pyx\u001b[0m in \u001b[0;36mpandas._libs.index.IndexEngine.get_loc\u001b[1;34m()\u001b[0m\n",
      "\u001b[1;32mpandas\\_libs\\index.pyx\u001b[0m in \u001b[0;36mpandas._libs.index.IndexEngine.get_loc\u001b[1;34m()\u001b[0m\n",
      "\u001b[1;32mpandas\\_libs\\hashtable_class_helper.pxi\u001b[0m in \u001b[0;36mpandas._libs.hashtable.PyObjectHashTable.get_item\u001b[1;34m()\u001b[0m\n",
      "\u001b[1;32mpandas\\_libs\\hashtable_class_helper.pxi\u001b[0m in \u001b[0;36mpandas._libs.hashtable.PyObjectHashTable.get_item\u001b[1;34m()\u001b[0m\n",
      "\u001b[1;31mKeyError\u001b[0m: 'Unnamed: 45'"
     ]
    }
   ],
   "source": [
    "del data['Unnamed: 45']"
   ]
  },
  {
   "cell_type": "markdown",
   "metadata": {},
   "source": [
    "**Converting colum 1 State to categories**"
   ]
  },
  {
   "cell_type": "code",
   "execution_count": 16,
   "metadata": {},
   "outputs": [],
   "source": [
    "states = {1:'Alabama',2 :'Alaska',4: 'Arizona',5: 'Arkansas',6: 'California',8: 'Colorado',9: 'Connecticut',10: 'Delaware',11: 'District of Columbia',12: 'Florida',13: 'Georgia',\n",
    "          15: 'Hawaii',16:'Idaho', 17: 'Illinois', 18: 'Indiana',19: 'Iowa',20: 'Kansas',21: 'Kentucky',22: 'Louisiana',23: 'Maine',24: 'Maryland',25: 'Massachusetts',\n",
    "          26: 'Michigan',27: 'Minnesota',28: 'Mississippi',29: 'Missouri',30: 'Montana',31: 'Nebraska',32: 'Nevada',33: 'New Hampshire',34: 'New Jersey',35: 'New Mexico',\n",
    "          36: 'New York', 37: 'North Carolina', 38: 'North Dakota', 39: 'Ohio', 40: 'Oklahoma', 41: 'Oregon',  42: 'Pennsylvania', 43: 'Puerto Rico', 44: 'Rhode Island',\n",
    "          45: 'South Carolina', 46: 'South Dakota', 47: 'Tennessee', 48: 'Texas', 49: 'Utah', 50: 'Vermont', 52:'Virgin Islands', 51: 'Virginia',53: 'Washington',\n",
    "          54: 'West Virginia', 55: 'Wisconsin', 56: 'Wyoming'}"
   ]
  },
  {
   "cell_type": "code",
   "execution_count": 19,
   "metadata": {},
   "outputs": [],
   "source": [
    "data['State'] = data['State'].replace(states)"
   ]
  },
  {
   "cell_type": "code",
   "execution_count": 22,
   "metadata": {
    "collapsed": true
   },
   "outputs": [
    {
     "ename": "KeyError",
     "evalue": "'STATES'",
     "output_type": "error",
     "traceback": [
      "\u001b[1;31m---------------------------------------------------------------------------\u001b[0m",
      "\u001b[1;31mKeyError\u001b[0m                                  Traceback (most recent call last)",
      "\u001b[1;32mc:\\users\\sdeva\\appdata\\local\\programs\\python\\python38-32\\lib\\site-packages\\pandas\\core\\indexes\\base.py\u001b[0m in \u001b[0;36mget_loc\u001b[1;34m(self, key, method, tolerance)\u001b[0m\n\u001b[0;32m   2645\u001b[0m             \u001b[1;32mtry\u001b[0m\u001b[1;33m:\u001b[0m\u001b[1;33m\u001b[0m\u001b[1;33m\u001b[0m\u001b[0m\n\u001b[1;32m-> 2646\u001b[1;33m                 \u001b[1;32mreturn\u001b[0m \u001b[0mself\u001b[0m\u001b[1;33m.\u001b[0m\u001b[0m_engine\u001b[0m\u001b[1;33m.\u001b[0m\u001b[0mget_loc\u001b[0m\u001b[1;33m(\u001b[0m\u001b[0mkey\u001b[0m\u001b[1;33m)\u001b[0m\u001b[1;33m\u001b[0m\u001b[1;33m\u001b[0m\u001b[0m\n\u001b[0m\u001b[0;32m   2647\u001b[0m             \u001b[1;32mexcept\u001b[0m \u001b[0mKeyError\u001b[0m\u001b[1;33m:\u001b[0m\u001b[1;33m\u001b[0m\u001b[1;33m\u001b[0m\u001b[0m\n",
      "\u001b[1;32mpandas\\_libs\\index.pyx\u001b[0m in \u001b[0;36mpandas._libs.index.IndexEngine.get_loc\u001b[1;34m()\u001b[0m\n",
      "\u001b[1;32mpandas\\_libs\\index.pyx\u001b[0m in \u001b[0;36mpandas._libs.index.IndexEngine.get_loc\u001b[1;34m()\u001b[0m\n",
      "\u001b[1;32mpandas\\_libs\\hashtable_class_helper.pxi\u001b[0m in \u001b[0;36mpandas._libs.hashtable.PyObjectHashTable.get_item\u001b[1;34m()\u001b[0m\n",
      "\u001b[1;32mpandas\\_libs\\hashtable_class_helper.pxi\u001b[0m in \u001b[0;36mpandas._libs.hashtable.PyObjectHashTable.get_item\u001b[1;34m()\u001b[0m\n",
      "\u001b[1;31mKeyError\u001b[0m: 'STATES'",
      "\nDuring handling of the above exception, another exception occurred:\n",
      "\u001b[1;31mKeyError\u001b[0m                                  Traceback (most recent call last)",
      "\u001b[1;32m<ipython-input-22-52669ad4ea87>\u001b[0m in \u001b[0;36m<module>\u001b[1;34m\u001b[0m\n\u001b[1;32m----> 1\u001b[1;33m \u001b[1;32mdel\u001b[0m \u001b[0mdata\u001b[0m\u001b[1;33m[\u001b[0m\u001b[1;34m'STATES'\u001b[0m\u001b[1;33m]\u001b[0m\u001b[1;33m\u001b[0m\u001b[1;33m\u001b[0m\u001b[0m\n\u001b[0m",
      "\u001b[1;32mc:\\users\\sdeva\\appdata\\local\\programs\\python\\python38-32\\lib\\site-packages\\pandas\\core\\generic.py\u001b[0m in \u001b[0;36m__delitem__\u001b[1;34m(self, key)\u001b[0m\n\u001b[0;32m   3757\u001b[0m             \u001b[1;31m# there was no match, this call should raise the appropriate\u001b[0m\u001b[1;33m\u001b[0m\u001b[1;33m\u001b[0m\u001b[1;33m\u001b[0m\u001b[0m\n\u001b[0;32m   3758\u001b[0m             \u001b[1;31m# exception:\u001b[0m\u001b[1;33m\u001b[0m\u001b[1;33m\u001b[0m\u001b[1;33m\u001b[0m\u001b[0m\n\u001b[1;32m-> 3759\u001b[1;33m             \u001b[0mself\u001b[0m\u001b[1;33m.\u001b[0m\u001b[0m_data\u001b[0m\u001b[1;33m.\u001b[0m\u001b[0mdelete\u001b[0m\u001b[1;33m(\u001b[0m\u001b[0mkey\u001b[0m\u001b[1;33m)\u001b[0m\u001b[1;33m\u001b[0m\u001b[1;33m\u001b[0m\u001b[0m\n\u001b[0m\u001b[0;32m   3760\u001b[0m \u001b[1;33m\u001b[0m\u001b[0m\n\u001b[0;32m   3761\u001b[0m         \u001b[1;31m# delete from the caches\u001b[0m\u001b[1;33m\u001b[0m\u001b[1;33m\u001b[0m\u001b[1;33m\u001b[0m\u001b[0m\n",
      "\u001b[1;32mc:\\users\\sdeva\\appdata\\local\\programs\\python\\python38-32\\lib\\site-packages\\pandas\\core\\internals\\managers.py\u001b[0m in \u001b[0;36mdelete\u001b[1;34m(self, item)\u001b[0m\n\u001b[0;32m   1000\u001b[0m         \u001b[0mDelete\u001b[0m \u001b[0mselected\u001b[0m \u001b[0mitem\u001b[0m \u001b[1;33m(\u001b[0m\u001b[0mitems\u001b[0m \u001b[1;32mif\u001b[0m \u001b[0mnon\u001b[0m\u001b[1;33m-\u001b[0m\u001b[0munique\u001b[0m\u001b[1;33m)\u001b[0m \u001b[1;32min\u001b[0m\u001b[1;33m-\u001b[0m\u001b[0mplace\u001b[0m\u001b[1;33m.\u001b[0m\u001b[1;33m\u001b[0m\u001b[1;33m\u001b[0m\u001b[0m\n\u001b[0;32m   1001\u001b[0m         \"\"\"\n\u001b[1;32m-> 1002\u001b[1;33m         \u001b[0mindexer\u001b[0m \u001b[1;33m=\u001b[0m \u001b[0mself\u001b[0m\u001b[1;33m.\u001b[0m\u001b[0mitems\u001b[0m\u001b[1;33m.\u001b[0m\u001b[0mget_loc\u001b[0m\u001b[1;33m(\u001b[0m\u001b[0mitem\u001b[0m\u001b[1;33m)\u001b[0m\u001b[1;33m\u001b[0m\u001b[1;33m\u001b[0m\u001b[0m\n\u001b[0m\u001b[0;32m   1003\u001b[0m \u001b[1;33m\u001b[0m\u001b[0m\n\u001b[0;32m   1004\u001b[0m         \u001b[0mis_deleted\u001b[0m \u001b[1;33m=\u001b[0m \u001b[0mnp\u001b[0m\u001b[1;33m.\u001b[0m\u001b[0mzeros\u001b[0m\u001b[1;33m(\u001b[0m\u001b[0mself\u001b[0m\u001b[1;33m.\u001b[0m\u001b[0mshape\u001b[0m\u001b[1;33m[\u001b[0m\u001b[1;36m0\u001b[0m\u001b[1;33m]\u001b[0m\u001b[1;33m,\u001b[0m \u001b[0mdtype\u001b[0m\u001b[1;33m=\u001b[0m\u001b[0mnp\u001b[0m\u001b[1;33m.\u001b[0m\u001b[0mbool_\u001b[0m\u001b[1;33m)\u001b[0m\u001b[1;33m\u001b[0m\u001b[1;33m\u001b[0m\u001b[0m\n",
      "\u001b[1;32mc:\\users\\sdeva\\appdata\\local\\programs\\python\\python38-32\\lib\\site-packages\\pandas\\core\\indexes\\base.py\u001b[0m in \u001b[0;36mget_loc\u001b[1;34m(self, key, method, tolerance)\u001b[0m\n\u001b[0;32m   2646\u001b[0m                 \u001b[1;32mreturn\u001b[0m \u001b[0mself\u001b[0m\u001b[1;33m.\u001b[0m\u001b[0m_engine\u001b[0m\u001b[1;33m.\u001b[0m\u001b[0mget_loc\u001b[0m\u001b[1;33m(\u001b[0m\u001b[0mkey\u001b[0m\u001b[1;33m)\u001b[0m\u001b[1;33m\u001b[0m\u001b[1;33m\u001b[0m\u001b[0m\n\u001b[0;32m   2647\u001b[0m             \u001b[1;32mexcept\u001b[0m \u001b[0mKeyError\u001b[0m\u001b[1;33m:\u001b[0m\u001b[1;33m\u001b[0m\u001b[1;33m\u001b[0m\u001b[0m\n\u001b[1;32m-> 2648\u001b[1;33m                 \u001b[1;32mreturn\u001b[0m \u001b[0mself\u001b[0m\u001b[1;33m.\u001b[0m\u001b[0m_engine\u001b[0m\u001b[1;33m.\u001b[0m\u001b[0mget_loc\u001b[0m\u001b[1;33m(\u001b[0m\u001b[0mself\u001b[0m\u001b[1;33m.\u001b[0m\u001b[0m_maybe_cast_indexer\u001b[0m\u001b[1;33m(\u001b[0m\u001b[0mkey\u001b[0m\u001b[1;33m)\u001b[0m\u001b[1;33m)\u001b[0m\u001b[1;33m\u001b[0m\u001b[1;33m\u001b[0m\u001b[0m\n\u001b[0m\u001b[0;32m   2649\u001b[0m         \u001b[0mindexer\u001b[0m \u001b[1;33m=\u001b[0m \u001b[0mself\u001b[0m\u001b[1;33m.\u001b[0m\u001b[0mget_indexer\u001b[0m\u001b[1;33m(\u001b[0m\u001b[1;33m[\u001b[0m\u001b[0mkey\u001b[0m\u001b[1;33m]\u001b[0m\u001b[1;33m,\u001b[0m \u001b[0mmethod\u001b[0m\u001b[1;33m=\u001b[0m\u001b[0mmethod\u001b[0m\u001b[1;33m,\u001b[0m \u001b[0mtolerance\u001b[0m\u001b[1;33m=\u001b[0m\u001b[0mtolerance\u001b[0m\u001b[1;33m)\u001b[0m\u001b[1;33m\u001b[0m\u001b[1;33m\u001b[0m\u001b[0m\n\u001b[0;32m   2650\u001b[0m         \u001b[1;32mif\u001b[0m \u001b[0mindexer\u001b[0m\u001b[1;33m.\u001b[0m\u001b[0mndim\u001b[0m \u001b[1;33m>\u001b[0m \u001b[1;36m1\u001b[0m \u001b[1;32mor\u001b[0m \u001b[0mindexer\u001b[0m\u001b[1;33m.\u001b[0m\u001b[0msize\u001b[0m \u001b[1;33m>\u001b[0m \u001b[1;36m1\u001b[0m\u001b[1;33m:\u001b[0m\u001b[1;33m\u001b[0m\u001b[1;33m\u001b[0m\u001b[0m\n",
      "\u001b[1;32mpandas\\_libs\\index.pyx\u001b[0m in \u001b[0;36mpandas._libs.index.IndexEngine.get_loc\u001b[1;34m()\u001b[0m\n",
      "\u001b[1;32mpandas\\_libs\\index.pyx\u001b[0m in \u001b[0;36mpandas._libs.index.IndexEngine.get_loc\u001b[1;34m()\u001b[0m\n",
      "\u001b[1;32mpandas\\_libs\\hashtable_class_helper.pxi\u001b[0m in \u001b[0;36mpandas._libs.hashtable.PyObjectHashTable.get_item\u001b[1;34m()\u001b[0m\n",
      "\u001b[1;32mpandas\\_libs\\hashtable_class_helper.pxi\u001b[0m in \u001b[0;36mpandas._libs.hashtable.PyObjectHashTable.get_item\u001b[1;34m()\u001b[0m\n",
      "\u001b[1;31mKeyError\u001b[0m: 'STATES'"
     ]
    }
   ],
   "source": [
    "del data['STATES']"
   ]
  },
  {
   "cell_type": "markdown",
   "metadata": {},
   "source": [
    "**converting column No.of Occupants to categories**\n",
    "\n",
    "  Removing the values which are __*unknown*__\n",
    "  "
   ]
  },
  {
   "cell_type": "code",
   "execution_count": 39,
   "metadata": {},
   "outputs": [],
   "source": [
    "data['No. of Occupants'] = data['No. of Occupants'].replace(99, 'Unknown')"
   ]
  },
  {
   "cell_type": "code",
   "execution_count": 41,
   "metadata": {},
   "outputs": [
    {
     "data": {
      "text/plain": [
       "1     36268\n",
       "2      9960\n",
       "3      2961\n",
       "4      1402\n",
       "5       580\n",
       "0       255\n",
       "6       207\n",
       "7        92\n",
       "8        37\n",
       "9        19\n",
       "10       10\n",
       "11        7\n",
       "14        6\n",
       "16        5\n",
       "15        5\n",
       "13        3\n",
       "30        2\n",
       "37        2\n",
       "26        2\n",
       "20        2\n",
       "12        1\n",
       "57        1\n",
       "50        1\n",
       "19        1\n",
       "21        1\n",
       "23        1\n",
       "24        1\n",
       "25        1\n",
       "27        1\n",
       "29        1\n",
       "31        1\n",
       "33        1\n",
       "34        1\n",
       "38        1\n",
       "45        1\n",
       "17        1\n",
       "Name: No. of Occupants, dtype: int64"
      ]
     },
     "execution_count": 41,
     "metadata": {},
     "output_type": "execute_result"
    }
   ],
   "source": [
    "data['No. of Occupants'].value_counts()"
   ]
  },
  {
   "cell_type": "code",
   "execution_count": 42,
   "metadata": {},
   "outputs": [],
   "source": [
    "data = data[data['No. of Occupants'] != 'Unknown']"
   ]
  },
  {
   "cell_type": "markdown",
   "metadata": {},
   "source": [
    "**Harmful Events**"
   ]
  },
  {
   "cell_type": "code",
   "execution_count": 70,
   "metadata": {},
   "outputs": [
    {
     "data": {
      "text/plain": [
       "Motor Vehicle in Transport                                                                                                               30161\n",
       "Pedestrian                                                                                                                                5347\n",
       "Rollover/Overturn                                                                                                                         3041\n",
       "Tree (Standing Only)                                                                                                                      2445\n",
       "Curb                                                                                                                                      1279\n",
       "Embankment                                                                                                                                 900\n",
       "Ditch                                                                                                                                      892\n",
       "Guardrail Face                                                                                                                             877\n",
       "Pedalcyclist                                                                                                                               718\n",
       "Utility Pole/Light Support                                                                                                                 681\n",
       "Fence                                                                                                                                      487\n",
       "Culvert                                                                                                                                    454\n",
       "Traffic Sign Support                                                                                                                       449\n",
       "Parked Motor Vehicle                                                                                                                       448\n",
       "Concrete Traffic Barrier                                                                                                                   380\n",
       "Post, Pole or Other Support                                                                                                                300\n",
       "Mail Box                                                                                                                                   261\n",
       "Other Fixed Object                                                                                                                         257\n",
       "Fell/Jumped from Vehicle                                                                                                                   236\n",
       "Live Animal                                                                                                                                235\n",
       "Guardrail End                                                                                                                              235\n",
       "Other Object (Not Fixed)                                                                                                                   196\n",
       "Non-Motorist on Personal Conveyance                                                                                                        135\n",
       "Railway Vehicle                                                                                                                            126\n",
       "Cable Barrier (Since 2008)                                                                                                                 120\n",
       "Bridge Rail (Includes Parapet)                                                                                                             108\n",
       "Wall                                                                                                                                       108\n",
       "Ground                                                                                                                                      94\n",
       "Bridge Pier or Support                                                                                                                      92\n",
       "Boulder                                                                                                                                     88\n",
       "Motor Vehicle In-Transport Strikes or is Struck by Cargo, Persons or Objects Set-in-Motion from/by Another Motor Vehicle In-Transport       71\n",
       "Building                                                                                                                                    67\n",
       "Impact Attenuator/Crash Cushion                                                                                                             65\n",
       "Other Traffic Barrier                                                                                                                       54\n",
       "Traffic Signal Support                                                                                                                      51\n",
       "Immersion (or Partial Immersion, Since 2012)                                                                                                47\n",
       "Shrubbery                                                                                                                                   44\n",
       "Fire Hydrant                                                                                                                                38\n",
       "Other Non-Collision                                                                                                                         36\n",
       "Working Motor Vehicle                                                                                                                       29\n",
       "Thrown or Falling Object                                                                                                                    26\n",
       "Jackknife (Harmful to This Vehicle)                                                                                                         26\n",
       "Snow Bank                                                                                                                                   25\n",
       "Ridden Animal or Animal-Drawn Conveyance (Since 1998)                                                                                       21\n",
       "Pavement Surface Irregularity (Ruts, Potholes, Grates, etc.)                                                                                16\n",
       "Cargo/Equipment Loss or Shift (Harmful to This Vehicle)                                                                                     15\n",
       "Fire/Explosion                                                                                                                               9\n",
       "Bridge Overhead Structure                                                                                                                    7\n",
       "Motor Vehicle in Motion Outside the Trafficway (Since 2008)                                                                                  4\n",
       "Injured in Vehicle (Non-Collision)                                                                                                           4\n",
       "Road Vehicle on Rails                                                                                                                        3\n",
       "Name: Harmful_Event, dtype: int64"
      ]
     },
     "execution_count": 70,
     "metadata": {},
     "output_type": "execute_result"
    }
   ],
   "source": [
    "data['Harmful_Event'].value_counts()"
   ]
  },
  {
   "cell_type": "code",
   "execution_count": 69,
   "metadata": {},
   "outputs": [],
   "source": [
    "data = data[data[\"Harmful_Event\"] != 99]\n",
    "data = data[data[\"Harmful_Event\"] != 91]\n",
    "data = data[data[\"Harmful_Event\"] != 93]\n",
    "data = data[data[\"Harmful_Event\"] != 73] #Unknown Class"
   ]
  },
  {
   "cell_type": "code",
   "execution_count": 58,
   "metadata": {},
   "outputs": [],
   "source": [
    "harmful = {1: \"Rollover/Overturn\",\n",
    "2: \"Fire/Explosion\",\n",
    "3: \"Immersion (or Partial Immersion, Since 2012)\",\n",
    "4: \"Gas Inhalation\",\n",
    "5: \"Fell/Jumped from Vehicle\",\n",
    "6: \"Injured in Vehicle (Non-Collision)\",\n",
    "7: \"Other Non-Collision\",\n",
    "8: \"Pedestrian\",\n",
    "9: \"Pedalcyclist\",\n",
    "10: \"Railway Vehicle\",\n",
    "11: \"Live Animal\",\n",
    "12: \"Motor Vehicle in Transport\",\n",
    "14: \"Parked Motor Vehicle\",\n",
    "15: \"Non-Motorist on Personal Conveyance\",\n",
    "16: \"Thrown or Falling Object\",\n",
    "17: \"Boulder\",\n",
    "18: \"Other Object (Not Fixed)\",\n",
    "19: \"Building\",\n",
    "20: \"Impact Attenuator/Crash Cushion\",\n",
    "21: \"Bridge Pier or Support\",\n",
    "23: \"Bridge Rail (Includes Parapet)\",\n",
    "24: \"Guardrail Face\",\n",
    "25: \"Concrete Traffic Barrier\",\n",
    "26: \"Other Traffic Barrier\",\n",
    "30: \"Utility Pole/Light Support\",\n",
    "31: \"Post, Pole or Other Support\",\n",
    "32: \"Culvert\",\n",
    "33: \"Curb\",\n",
    "34: \"Ditch\",\n",
    "35: \"Embankment\",\n",
    "38: \"Fence\",\n",
    "39: \"Wall\",\n",
    "40: \"Fire Hydrant\",\n",
    "41: \"Shrubbery\",\n",
    "42: \"Tree (Standing Only)\",\n",
    "43: \"Other Fixed Object\",\n",
    "44: \"Pavement Surface Irregularity (Ruts, Potholes, Grates, etc.)\",\n",
    "45: \"Working Motor Vehicle\",\n",
    "46: \"Traffic Signal Support\",\n",
    "48: \"Snow Bank\",\n",
    "49: \"Ridden Animal or Animal-Drawn Conveyance (Since 1998)\",\n",
    "50: \"Bridge Overhead Structure\",\n",
    "51: \"Jackknife (Harmful to This Vehicle)\",\n",
    "52: \"Guardrail End\",\n",
    "53: \"Mail Box\",\n",
    "54: \"Motor Vehicle In-Transport Strikes or is Struck by Cargo, Persons or Objects Set-in-Motion from/by Another Motor Vehicle In-Transport\",\n",
    "55: \"Motor Vehicle in Motion Outside the Trafficway (Since 2008)\",\n",
    "57: \"Cable Barrier (Since 2008)\",\n",
    "58: \"Ground\",\n",
    "59: \"Traffic Sign Support\",\n",
    "72: \"Cargo/Equipment Loss or Shift (Harmful to This Vehicle)\",\n",
    "74: \"Road Vehicle on Rails\"}"
   ]
  },
  {
   "cell_type": "code",
   "execution_count": 71,
   "metadata": {},
   "outputs": [],
   "source": [
    "data['Harmful_Event']= data['Harmful_Event'].replace(harmful)"
   ]
  },
  {
   "cell_type": "markdown",
   "metadata": {},
   "source": [
    "**Driver Drinking**"
   ]
  },
  {
   "cell_type": "code",
   "execution_count": 78,
   "metadata": {},
   "outputs": [
    {
     "data": {
      "text/plain": [
       "No Drinking    42351\n",
       "Drinking        9457\n",
       "Name: DR_DRINK, dtype: int64"
      ]
     },
     "execution_count": 78,
     "metadata": {},
     "output_type": "execute_result"
    }
   ],
   "source": [
    "data['DR_DRINK'].value_counts()"
   ]
  },
  {
   "cell_type": "code",
   "execution_count": 75,
   "metadata": {},
   "outputs": [],
   "source": [
    "drink ={0:\"No Drinking\", 1:\"Drinking\"}"
   ]
  },
  {
   "cell_type": "code",
   "execution_count": 84,
   "metadata": {},
   "outputs": [],
   "source": [
    "data['DR_DRINK'] = data[\"DR_DRINK\"].replace(drink)"
   ]
  },
  {
   "cell_type": "markdown",
   "metadata": {},
   "source": [
    "**Rollover**"
   ]
  },
  {
   "cell_type": "code",
   "execution_count": 93,
   "metadata": {},
   "outputs": [
    {
     "data": {
      "text/plain": [
       "No Rollover                   43714\n",
       "Rollover tripped by object     6626\n",
       "Rollover untripped             1063\n",
       "Name: ROLLOVER, dtype: int64"
      ]
     },
     "execution_count": 93,
     "metadata": {},
     "output_type": "execute_result"
    }
   ],
   "source": [
    "data['ROLLOVER'].value_counts()"
   ]
  },
  {
   "cell_type": "code",
   "execution_count": 92,
   "metadata": {},
   "outputs": [],
   "source": [
    "data = data[data['ROLLOVER'] != 9 ]"
   ]
  },
  {
   "cell_type": "code",
   "execution_count": 86,
   "metadata": {},
   "outputs": [],
   "source": [
    "roll={0:\"No Rollover\", 1:\"Rollover tripped by object\",2:\"Rollover untripped\"}"
   ]
  },
  {
   "cell_type": "code",
   "execution_count": 94,
   "metadata": {},
   "outputs": [],
   "source": [
    "data['ROLLOVER']= data['ROLLOVER'].replace(roll)"
   ]
  },
  {
   "cell_type": "markdown",
   "metadata": {},
   "source": [
    "**UNDERRIDE**"
   ]
  },
  {
   "cell_type": "code",
   "execution_count": 109,
   "metadata": {},
   "outputs": [
    {
     "data": {
      "text/plain": [
       "No Under or over ride                                        50878\n",
       "compartment intrusion - motor vehicle in transport             145\n",
       "Override - motor vehicle in transport                          120\n",
       "No compartment intrusion motor vehicle in transport             32\n",
       "compartment intrusion - motor vehicle not in trasport           11\n",
       "No compartment intrusion - motor vehicle not in transport        8\n",
       "Override - motor vehicle not in transport                        2\n",
       "Name: UNDERIDE, dtype: int64"
      ]
     },
     "execution_count": 109,
     "metadata": {},
     "output_type": "execute_result"
    }
   ],
   "source": [
    "data['UNDERIDE'].value_counts()"
   ]
  },
  {
   "cell_type": "code",
   "execution_count": 104,
   "metadata": {},
   "outputs": [],
   "source": [
    "data = data[data[\"UNDERIDE\"] != 3]\n",
    "data = data[data[\"UNDERIDE\"] != 6]\n",
    "data = data[data[\"UNDERIDE\"] != 9]"
   ]
  },
  {
   "cell_type": "code",
   "execution_count": 106,
   "metadata": {},
   "outputs": [],
   "source": [
    "under = {0:\"No Under or over ride\",1:\"compartment intrusion - motor vehicle in transport\",\n",
    "         2:\"No compartment intrusion motor vehicle in transport\", 4:\"compartment intrusion - motor vehicle not in trasport\",\n",
    "        5:\"No compartment intrusion - motor vehicle not in transport\", 7:\"Override - motor vehicle in transport\",\n",
    "        8:\"Override - motor vehicle not in transport\"}"
   ]
  },
  {
   "cell_type": "code",
   "execution_count": 110,
   "metadata": {},
   "outputs": [],
   "source": [
    "data[\"UNDERIDE\"] = data['UNDERIDE'].replace(under)"
   ]
  },
  {
   "cell_type": "code",
   "execution_count": 136,
   "metadata": {},
   "outputs": [
    {
     "data": {
      "text/plain": [
       "998    26287\n",
       "999     5221\n",
       "0       2418\n",
       "55      2329\n",
       "45      1874\n",
       "50      1097\n",
       "70      1075\n",
       "60      1063\n",
       "65      1058\n",
       "40       971\n",
       "35       952\n",
       "30       569\n",
       "10       529\n",
       "15       473\n",
       "25       415\n",
       "5        370\n",
       "75       363\n",
       "80       348\n",
       "20       348\n",
       "100      181\n",
       "90       165\n",
       "53       129\n",
       "85       119\n",
       "58       111\n",
       "68        99\n",
       "48        91\n",
       "43        90\n",
       "63        77\n",
       "38        75\n",
       "47        63\n",
       "73        61\n",
       "57        60\n",
       "62        57\n",
       "33        53\n",
       "52        49\n",
       "67        46\n",
       "56        45\n",
       "59        44\n",
       "42        44\n",
       "71        44\n",
       "37        43\n",
       "72        42\n",
       "78        42\n",
       "51        40\n",
       "66        38\n",
       "28        37\n",
       "32        37\n",
       "23        36\n",
       "44        35\n",
       "76        35\n",
       "61        34\n",
       "95        33\n",
       "74        33\n",
       "13        32\n",
       "36        32\n",
       "39        32\n",
       "49        31\n",
       "3         31\n",
       "64        31\n",
       "54        30\n",
       "8         30\n",
       "27        29\n",
       "46        29\n",
       "83        28\n",
       "77        27\n",
       "81        27\n",
       "41        25\n",
       "1         24\n",
       "12        24\n",
       "110       24\n",
       "17        24\n",
       "69        23\n",
       "7         23\n",
       "34        22\n",
       "2         22\n",
       "84        21\n",
       "86        21\n",
       "82        20\n",
       "16        19\n",
       "87        19\n",
       "89        19\n",
       "14        18\n",
       "120       18\n",
       "88        17\n",
       "18        16\n",
       "4         16\n",
       "22        16\n",
       "91        15\n",
       "94        15\n",
       "31        14\n",
       "29        14\n",
       "11        14\n",
       "93        13\n",
       "92        13\n",
       "105       13\n",
       "24        13\n",
       "19        13\n",
       "21        12\n",
       "99        12\n",
       "79        12\n",
       "96        12\n",
       "98        11\n",
       "101       10\n",
       "112        9\n",
       "9          8\n",
       "97         8\n",
       "6          8\n",
       "26         7\n",
       "115        7\n",
       "118        6\n",
       "104        6\n",
       "140        6\n",
       "121        5\n",
       "109        5\n",
       "102        5\n",
       "107        5\n",
       "106        5\n",
       "997        4\n",
       "124        4\n",
       "111        4\n",
       "119        4\n",
       "125        4\n",
       "130        4\n",
       "113        3\n",
       "114        3\n",
       "133        3\n",
       "116        2\n",
       "103        2\n",
       "135        2\n",
       "108        2\n",
       "117        2\n",
       "127        2\n",
       "132        1\n",
       "123        1\n",
       "137        1\n",
       "141        1\n",
       "150        1\n",
       "Name: Travel_speed, dtype: int64"
      ]
     },
     "execution_count": 136,
     "metadata": {},
     "output_type": "execute_result"
    }
   ],
   "source": [
    "data['Travel_speed'].value_counts()"
   ]
  },
  {
   "cell_type": "markdown",
   "metadata": {},
   "source": [
    "**Rolling Location**"
   ]
  },
  {
   "cell_type": "code",
   "execution_count": 135,
   "metadata": {},
   "outputs": [
    {
     "data": {
      "text/plain": [
       "No rollover            43512\n",
       "On roadside             4636\n",
       "On Roadway              1562\n",
       "outside of roadway       607\n",
       "On median/Separator      595\n",
       "On shoulder              130\n",
       "in Gore                   69\n",
       "In parking Lot             3\n",
       "Name: Rolling location, dtype: int64"
      ]
     },
     "execution_count": 135,
     "metadata": {},
     "output_type": "execute_result"
    }
   ],
   "source": [
    "data['Rolling location'].value_counts()"
   ]
  },
  {
   "cell_type": "code",
   "execution_count": 124,
   "metadata": {},
   "outputs": [],
   "source": [
    "data = data[data['Rolling location'] != 9]"
   ]
  },
  {
   "cell_type": "code",
   "execution_count": 131,
   "metadata": {},
   "outputs": [],
   "source": [
    "location = {0:'No rollover', 1:\"On Roadway\",2:\"On shoulder\",3:\"On median/Separator\",4:\"In Gore\",5:\"On roadside\",\n",
    "            6:\"outside of roadway\",7:\"In parking Lot\"}"
   ]
  },
  {
   "cell_type": "code",
   "execution_count": 139,
   "metadata": {},
   "outputs": [],
   "source": [
    "data['Rolling location'] = data['Rolling location'].replace(location)"
   ]
  },
  {
   "cell_type": "markdown",
   "metadata": {},
   "source": [
    "**Hit and Run**"
   ]
  },
  {
   "cell_type": "code",
   "execution_count": 148,
   "metadata": {},
   "outputs": [
    {
     "data": {
      "text/plain": [
       "No     50247\n",
       "Yes      796\n",
       "Name: Hit_and_Run, dtype: int64"
      ]
     },
     "execution_count": 148,
     "metadata": {},
     "output_type": "execute_result"
    }
   ],
   "source": [
    "data['Hit_and_Run'].value_counts()"
   ]
  },
  {
   "cell_type": "code",
   "execution_count": 144,
   "metadata": {},
   "outputs": [],
   "source": [
    "data = data[data['Hit_and_Run'] != 9]"
   ]
  },
  {
   "cell_type": "code",
   "execution_count": 146,
   "metadata": {},
   "outputs": [],
   "source": [
    "hit_and_run={0:'No', 1:'Yes'}"
   ]
  },
  {
   "cell_type": "code",
   "execution_count": 147,
   "metadata": {},
   "outputs": [],
   "source": [
    "data['Hit_and_Run'] = data['Hit_and_Run'].replace(hit_and_run)"
   ]
  },
  {
   "cell_type": "markdown",
   "metadata": {},
   "source": [
    "**MAKE**"
   ]
  },
  {
   "cell_type": "code",
   "execution_count": 166,
   "metadata": {},
   "outputs": [
    {
     "data": {
      "text/plain": [
       "Ford                                7210\n",
       "Chevrolet                           6959\n",
       "Toyota                              4216\n",
       "Honda                               3766\n",
       "Dodge                               3232\n",
       "Datsun/Nissan                       2602\n",
       "Harley-Davidson                     2000\n",
       "GMC                                 1549\n",
       "Jeep/Kaiser-Jeep/Willys Jeep        1365\n",
       "Freightliner                        1253\n",
       "Hyundai                             1216\n",
       "Other Make                           953\n",
       "Chrysler                             924\n",
       "Kia                                  901\n",
       "Yamaha                               774\n",
       "Buick/Opel                           761\n",
       "Suzuki                               745\n",
       "Pontiac                              678\n",
       "Peterbilt                            629\n",
       "Kawasaki                             582\n",
       "International Harvester/Navistar     575\n",
       "Mazda                                555\n",
       "Kenworth                             545\n",
       "Volkswagen                           533\n",
       "BMW                                  518\n",
       "Volvo                                502\n",
       "Subaru                               464\n",
       "Mercedes-Benz                        440\n",
       "Cadillac                             434\n",
       "Mercury                              432\n",
       "Lexus                                429\n",
       "Acura                                391\n",
       "Lincoln                              352\n",
       "Mitsubishi                           352\n",
       "Saturn                               344\n",
       "Mack                                 296\n",
       "Infiniti                             270\n",
       "Oldsmobile                           163\n",
       "Audi                                 149\n",
       "Isuzu                                113\n",
       "Other Imports                         79\n",
       "Triumph                               58\n",
       "Scion (Since 2012)                    50\n",
       "Plymouth                              48\n",
       "Land Rover                            47\n",
       "Ducati                                45\n",
       "Jaguar                                43\n",
       "AM General                            36\n",
       "Porsche                               35\n",
       "Victory                               33\n",
       "Gillig                                30\n",
       "Saab                                  26\n",
       "Fiat                                  24\n",
       "White/Autocar, White/GMC              20\n",
       "MCI                                   14\n",
       "Bluebird                              14\n",
       "Thomas Built                          10\n",
       "Other Domestic                         8\n",
       "Smart (Since 2010)                     7\n",
       "Eagle                                  3\n",
       "Moto Guzzi                             2\n",
       "Imperial                               1\n",
       "Grumman                                1\n",
       "Daewoo                                 1\n",
       "MG                                     1\n",
       "Name: Make, dtype: int64"
      ]
     },
     "execution_count": 166,
     "metadata": {},
     "output_type": "execute_result"
    }
   ],
   "source": [
    "data['Make'].value_counts()"
   ]
  },
  {
   "cell_type": "code",
   "execution_count": 159,
   "metadata": {},
   "outputs": [],
   "source": [
    "data = data[data['Make']!= 97]\n",
    "data = data[data['Make']!= 99]"
   ]
  },
  {
   "cell_type": "code",
   "execution_count": 164,
   "metadata": {},
   "outputs": [],
   "source": [
    "Make = {1 :\"American Motors\" , 2: \"Jeep/Kaiser-Jeep/Willys Jeep\" , 3: \"AM General\",  6: \"Chrysler\",  7: \"Dodge\",  8: \"Imperial\",\n",
    "        9: \"Plymouth\" , 10: \"Eagle\",  12: \"Ford\",  13: \"Lincoln\" , 14: \"Mercury\" , 18: \"Buick/Opel\",  19: \"Cadillac\",\n",
    "        20: \"Chevrolet\",  21: \"Oldsmobile\",  22: \"Pontiac\",  23: \"GMC\",  24:\"Saturn\" , 25: \"Grumman\",  26: \"Coda (Since 2013)\",\n",
    "        29: \"Other Domestic\",30: \"Volkswagen\",  31: \"Alfa Romeo\",  32: \"Audi\",  33: \"Austin/Austin Healey\",  34: \"BMW\",\n",
    "        35:\"Datsun/Nissan\",  36: \"Fiat\",  37: \"Honda\" , 38: \"Isuzu\",  39: \"Jaguar\",  40: \"Lancia\",  41: \"Mazda\",  42: \"Mercedes-Benz\",\n",
    "        43: \"MG\" , 44: \"Peugeot\" , 45: \"Porsche\" , 46: \"Renault\",  47: \"Saab\",  48: \"Subaru\",  49: \"Toyota\",  50: \"Triumph\",\n",
    "        51: \"Volvo\",  52: \"Mitsubishi\",  53: \"Suzuki\",  54: \"Acura\",  55: \"Hyundai\",56: \"Merkur\",  57: \"Yugo\",  58: \"Infiniti\",\n",
    "        59: \"Lexus\",  60: \"Daihatsu\",  61: \"Sterling\",  62: \"Land Rover\",  63: \"Kia\",  64: \"Daewoo\",  65: \"Smart (Since 2010)\",\n",
    "        66: \"Mahindra (2011-2013)\",  67: \"Scion (Since 2012)\",69: \"Other Imports\",70: \"BSA\",  71: \"Ducati\",  72: \"Harley-Davidson\",  73: \"Kawasaki\",\n",
    "        74: \"Moto Guzzi\" , 75: \"Norton\",  76: \"Yamaha\",  77: \"Victory\",  78: \"Other Make Moped (Since 2010)\",\n",
    "        79: \"Other Make Motored Cycle (Since 2010)\" , 80: \"Brockway\",  81: \"Diamond Reo/Reo\",  82: \"Freightliner\",  83: \"FWD\",\n",
    "        84: \"International Harvester/Navistar\" , 85: \"Kenworth\",  86: \"Mack\",  87: \"Peterbilt\",  88: \"Iveco/Magirus\",\n",
    "        89: \"White/Autocar, White/GMC\",  90: \"Bluebird\",  91: \"Eagle Coach\" , 92: \"Gillig\" , 93 :\"MCI\" , 94: \"Thomas Built\",98:\"Other Make\"    }"
   ]
  },
  {
   "cell_type": "code",
   "execution_count": 167,
   "metadata": {},
   "outputs": [],
   "source": [
    "data['Make'] = data['Make'].replace(Make)"
   ]
  },
  {
   "cell_type": "markdown",
   "metadata": {},
   "source": []
  }
 ],
 "metadata": {
  "kernelspec": {
   "display_name": "Python 3",
   "language": "python",
   "name": "python3"
  },
  "language_info": {
   "codemirror_mode": {
    "name": "ipython",
    "version": 3
   },
   "file_extension": ".py",
   "mimetype": "text/x-python",
   "name": "python",
   "nbconvert_exporter": "python",
   "pygments_lexer": "ipython3",
   "version": "3.8.0"
  }
 },
 "nbformat": 4,
 "nbformat_minor": 4
}
